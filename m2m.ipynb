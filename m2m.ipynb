{
 "cells": [
  {
   "cell_type": "code",
   "execution_count": 1,
   "metadata": {},
   "outputs": [],
   "source": [
    "from sqlalchemy.orm import sessionmaker\n",
    "from models_m2m import engine, Tevas, Vaikas\n",
    "from pprint import pprint\n",
    "\n",
    "session = sessionmaker(engine)()\n"
   ]
  },
  {
   "cell_type": "code",
   "execution_count": 2,
   "metadata": {},
   "outputs": [],
   "source": [
    "tevas = Tevas(vardas=\"Saulius\", pavarde=\"Venskus\")\n",
    "mama = Tevas(vardas=\"Inga\", pavarde=\"Venskiene\")\n",
    "rolandas = Vaikas(vardas=\"Rolandas\", pavarde=\"Venskus\")\n",
    "julita = Vaikas(vardas=\"Julita\", pavarde=\"Venskiene\")\n",
    "\n",
    "\n",
    "tevas.vaikai.append(rolandas)\n",
    "mama.vaikai.append(rolandas)\n",
    "tevas.vaikai.append(julita)\n",
    "\n",
    "session.add(tevas)\n",
    "session.add(mama)\n",
    "session.commit()"
   ]
  },
  {
   "cell_type": "code",
   "execution_count": 3,
   "metadata": {},
   "outputs": [
    {
     "name": "stdout",
     "output_type": "stream",
     "text": [
      "[(1, Saulius Venskus), (2, Inga Venskiene)]\n"
     ]
    }
   ],
   "source": [
    "tevai = session.query(Tevas).all()\n",
    "pprint(tevai)"
   ]
  },
  {
   "cell_type": "code",
   "execution_count": 4,
   "metadata": {},
   "outputs": [
    {
     "name": "stdout",
     "output_type": "stream",
     "text": [
      "[(1, Rolandas Venskus), (2, Julita Venskiene)]\n"
     ]
    }
   ],
   "source": [
    "vaikai = session.query(Vaikas).all()\n",
    "pprint(vaikai)"
   ]
  },
  {
   "cell_type": "code",
   "execution_count": 6,
   "metadata": {},
   "outputs": [
    {
     "name": "stdout",
     "output_type": "stream",
     "text": [
      "(1, Saulius Venskus)\n",
      "- (1, Rolandas Venskus)\n",
      "- (2, Julita Venskiene)\n",
      "(2, Inga Venskiene)\n",
      "- (1, Rolandas Venskus)\n"
     ]
    }
   ],
   "source": [
    "for tevas in tevai:\n",
    "    print(tevas)\n",
    "    for vaikas in tevas.vaikai:\n",
    "        print(\"-\", vaikas)"
   ]
  },
  {
   "cell_type": "code",
   "execution_count": 7,
   "metadata": {},
   "outputs": [
    {
     "name": "stdout",
     "output_type": "stream",
     "text": [
      "(1, Rolandas Venskus)\n",
      "- (2, Inga Venskiene)\n",
      "- (1, Saulius Venskus)\n",
      "(2, Julita Venskiene)\n",
      "- (1, Saulius Venskus)\n"
     ]
    }
   ],
   "source": [
    "for vaikas in vaikai:\n",
    "    print(vaikas)\n",
    "    for tevas in vaikas.tevai:\n",
    "        print(\"-\", tevas)"
   ]
  },
  {
   "cell_type": "code",
   "execution_count": 8,
   "metadata": {},
   "outputs": [],
   "source": [
    "tevas = session.query(Tevas).get(1)\n",
    "mama = session.query(Tevas).get(2)\n",
    "rolandas = session.query(Vaikas).get(1)\n",
    "julita = session.query(Vaikas).get(2)"
   ]
  },
  {
   "cell_type": "code",
   "execution_count": 9,
   "metadata": {},
   "outputs": [],
   "source": [
    "rolandas.tevai.append(tevas)\n",
    "julita.tevai.append(mama)\n",
    "rolandas.tevai.append(mama)\n",
    "session.commit()"
   ]
  }
 ],
 "metadata": {
  "kernelspec": {
   "display_name": "venv",
   "language": "python",
   "name": "python3"
  },
  "language_info": {
   "codemirror_mode": {
    "name": "ipython",
    "version": 3
   },
   "file_extension": ".py",
   "mimetype": "text/x-python",
   "name": "python",
   "nbconvert_exporter": "python",
   "pygments_lexer": "ipython3",
   "version": "3.10.6"
  },
  "orig_nbformat": 4,
  "vscode": {
   "interpreter": {
    "hash": "e3b2a27da883b9a55cdea047ef9cd6388d980a93c41fd1b230a8e14a8e00a1f4"
   }
  }
 },
 "nbformat": 4,
 "nbformat_minor": 2
}
